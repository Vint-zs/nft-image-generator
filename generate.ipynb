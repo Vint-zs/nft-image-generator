{
 "cells": [
  {
   "cell_type": "code",
   "execution_count": 1,
   "metadata": {},
   "outputs": [],
   "source": [
    "from PIL import Image \n",
    "from IPython.display import display \n",
    "import random\n",
    "import json\n",
    "import os"
   ]
  },
  {
   "cell_type": "code",
   "execution_count": 3,
   "metadata": {},
   "outputs": [
    {
     "name": "stdout",
     "output_type": "stream",
     "text": [
      "{'animal': ['cat@3x.png', 'penguin@3x.png', 'puppy@3x.png', 'rabbit@3x.png', 'turtle@3x.png'], 'backgrounds': ['blue.jpg', 'orange.jpg', 'purple.jpg', 'red.jpg', 'yellow.jpg'], 'bottom': ['blackoveralls@3x.png', 'denimpants@3x.png', 'greenoveralls@3x.png', 'koreanpants@3x.png', 'scoutpants@3x.png'], 'hair': ['glasses@3x.png', 'koreanhat@3x.png', 'ribbon@3x.png', 'sunglassees@3x.png'], 'hand': ['coke@3x.png', 'letter@3x.png', 'pencil@3x.png', 'phone@3x.png'], 'shoes': ['blackshoes@3x.png', 'greenshoes@3x.png', 'pinkshoes@3x.png', 'rainboots@3x.png'], 'top': ['anipaltop@3x.png', 'bluetop@3x.png', 'koreangown_1@3x.png', 'scouttop@3x.png', 'startop@3x.png', 'stripetop@3x.png']}\n"
     ]
    }
   ],
   "source": [
    "dir_path = os.getcwd() + \"\\\\trait-layers\"\n",
    "items = {}\n",
    "category_list = []\n",
    "arr = []\n",
    "for category in os.listdir(dir_path):\n",
    "    category_path = os.path.join(dir_path,category)\n",
    "    category_list.append(category)\n",
    "    for item in os.listdir(category_path):\n",
    "        arr.append(item)\n",
    "    items[category] = arr.copy()\n",
    "    arr.clear()\n",
    "print(items)"
   ]
  },
  {
   "cell_type": "code",
   "execution_count": 4,
   "metadata": {},
   "outputs": [],
   "source": [
    "## Generate Traits\n",
    "\n",
    "TOTAL_IMAGES = 30 # Number of random unique images we want to generate\n",
    "\n",
    "all_images = [] \n",
    "\n",
    "def getWeights(items):\n",
    "    weightsFor4 = [30, 50, 15, 5]\n",
    "    weightsFor5 = [30, 40, 15, 5, 10]\n",
    "    weightsFor6 = [25, 35, 15, 3, 10, 12]\n",
    "    if len(items) == 4:\n",
    "        return weightsFor4\n",
    "    elif len(items) == 5:\n",
    "        return weightsFor5\n",
    "    else:\n",
    "        return weightsFor6\n",
    "\n",
    "# A recursive function to generate unique image combinations\n",
    "def create_new_image():\n",
    "    \n",
    "    new_image = {} #\n",
    "\n",
    "    # For each trait category, select a random trait based on the weightings \n",
    "    for i in range(len(category_list)):\n",
    "        c = category_list[i]\n",
    "        new_image [c] = random.choices(items[c], getWeights(items[c]))[0]\n",
    "    \n",
    "    if new_image in all_images:\n",
    "        return create_new_image()\n",
    "    else:\n",
    "        return new_image\n",
    "    \n",
    "    \n",
    "# Generate the unique combinations based on trait weightings\n",
    "for i in range(TOTAL_IMAGES): \n",
    "    \n",
    "    new_trait_image = create_new_image()\n",
    "    \n",
    "    all_images.append(new_trait_image)\n",
    "    \n"
   ]
  },
  {
   "cell_type": "code",
   "execution_count": 5,
   "metadata": {},
   "outputs": [
    {
     "name": "stdout",
     "output_type": "stream",
     "text": [
      "Are all images unique? True\n"
     ]
    }
   ],
   "source": [
    "# Returns true if all images are unique\n",
    "def all_images_unique(all_images):\n",
    "    seen = list()\n",
    "    return not any(i in seen or seen.append(i) for i in all_images)\n",
    "\n",
    "print(\"Are all images unique?\", all_images_unique(all_images))"
   ]
  },
  {
   "cell_type": "code",
   "execution_count": 6,
   "metadata": {},
   "outputs": [],
   "source": [
    "# Add token Id to each image\n",
    "i = 0\n",
    "for item in all_images:\n",
    "    item[\"tokenId\"] = i\n",
    "    i = i + 1"
   ]
  },
  {
   "cell_type": "code",
   "execution_count": 7,
   "metadata": {
    "tags": []
   },
   "outputs": [
    {
     "name": "stdout",
     "output_type": "stream",
     "text": [
      "[{'animal': 'cat@3x.png', 'backgrounds': 'orange.jpg', 'bottom': 'greenoveralls@3x.png', 'hair': 'koreanhat@3x.png', 'hand': 'letter@3x.png', 'shoes': 'blackshoes@3x.png', 'top': 'anipaltop@3x.png', 'tokenId': 0}, {'animal': 'puppy@3x.png', 'backgrounds': 'orange.jpg', 'bottom': 'greenoveralls@3x.png', 'hair': 'glasses@3x.png', 'hand': 'letter@3x.png', 'shoes': 'blackshoes@3x.png', 'top': 'bluetop@3x.png', 'tokenId': 1}, {'animal': 'puppy@3x.png', 'backgrounds': 'purple.jpg', 'bottom': 'blackoveralls@3x.png', 'hair': 'koreanhat@3x.png', 'hand': 'phone@3x.png', 'shoes': 'greenshoes@3x.png', 'top': 'bluetop@3x.png', 'tokenId': 2}, {'animal': 'puppy@3x.png', 'backgrounds': 'blue.jpg', 'bottom': 'denimpants@3x.png', 'hair': 'glasses@3x.png', 'hand': 'letter@3x.png', 'shoes': 'greenshoes@3x.png', 'top': 'bluetop@3x.png', 'tokenId': 3}, {'animal': 'puppy@3x.png', 'backgrounds': 'blue.jpg', 'bottom': 'koreanpants@3x.png', 'hair': 'glasses@3x.png', 'hand': 'letter@3x.png', 'shoes': 'greenshoes@3x.png', 'top': 'bluetop@3x.png', 'tokenId': 4}, {'animal': 'rabbit@3x.png', 'backgrounds': 'blue.jpg', 'bottom': 'denimpants@3x.png', 'hair': 'glasses@3x.png', 'hand': 'letter@3x.png', 'shoes': 'blackshoes@3x.png', 'top': 'bluetop@3x.png', 'tokenId': 5}, {'animal': 'cat@3x.png', 'backgrounds': 'red.jpg', 'bottom': 'denimpants@3x.png', 'hair': 'koreanhat@3x.png', 'hand': 'coke@3x.png', 'shoes': 'blackshoes@3x.png', 'top': 'bluetop@3x.png', 'tokenId': 6}, {'animal': 'penguin@3x.png', 'backgrounds': 'orange.jpg', 'bottom': 'blackoveralls@3x.png', 'hair': 'koreanhat@3x.png', 'hand': 'coke@3x.png', 'shoes': 'greenshoes@3x.png', 'top': 'stripetop@3x.png', 'tokenId': 7}, {'animal': 'turtle@3x.png', 'backgrounds': 'orange.jpg', 'bottom': 'blackoveralls@3x.png', 'hair': 'glasses@3x.png', 'hand': 'phone@3x.png', 'shoes': 'rainboots@3x.png', 'top': 'bluetop@3x.png', 'tokenId': 8}, {'animal': 'puppy@3x.png', 'backgrounds': 'blue.jpg', 'bottom': 'denimpants@3x.png', 'hair': 'koreanhat@3x.png', 'hand': 'coke@3x.png', 'shoes': 'greenshoes@3x.png', 'top': 'anipaltop@3x.png', 'tokenId': 9}, {'animal': 'penguin@3x.png', 'backgrounds': 'blue.jpg', 'bottom': 'blackoveralls@3x.png', 'hair': 'glasses@3x.png', 'hand': 'coke@3x.png', 'shoes': 'blackshoes@3x.png', 'top': 'stripetop@3x.png', 'tokenId': 10}, {'animal': 'turtle@3x.png', 'backgrounds': 'blue.jpg', 'bottom': 'denimpants@3x.png', 'hair': 'koreanhat@3x.png', 'hand': 'letter@3x.png', 'shoes': 'pinkshoes@3x.png', 'top': 'bluetop@3x.png', 'tokenId': 11}, {'animal': 'penguin@3x.png', 'backgrounds': 'blue.jpg', 'bottom': 'scoutpants@3x.png', 'hair': 'koreanhat@3x.png', 'hand': 'coke@3x.png', 'shoes': 'greenshoes@3x.png', 'top': 'anipaltop@3x.png', 'tokenId': 12}, {'animal': 'penguin@3x.png', 'backgrounds': 'purple.jpg', 'bottom': 'scoutpants@3x.png', 'hair': 'ribbon@3x.png', 'hand': 'pencil@3x.png', 'shoes': 'greenshoes@3x.png', 'top': 'stripetop@3x.png', 'tokenId': 13}, {'animal': 'cat@3x.png', 'backgrounds': 'blue.jpg', 'bottom': 'blackoveralls@3x.png', 'hair': 'koreanhat@3x.png', 'hand': 'letter@3x.png', 'shoes': 'greenshoes@3x.png', 'top': 'startop@3x.png', 'tokenId': 14}, {'animal': 'cat@3x.png', 'backgrounds': 'blue.jpg', 'bottom': 'greenoveralls@3x.png', 'hair': 'koreanhat@3x.png', 'hand': 'letter@3x.png', 'shoes': 'rainboots@3x.png', 'top': 'anipaltop@3x.png', 'tokenId': 15}, {'animal': 'cat@3x.png', 'backgrounds': 'purple.jpg', 'bottom': 'blackoveralls@3x.png', 'hair': 'koreanhat@3x.png', 'hand': 'letter@3x.png', 'shoes': 'greenshoes@3x.png', 'top': 'bluetop@3x.png', 'tokenId': 16}, {'animal': 'penguin@3x.png', 'backgrounds': 'orange.jpg', 'bottom': 'denimpants@3x.png', 'hair': 'koreanhat@3x.png', 'hand': 'letter@3x.png', 'shoes': 'greenshoes@3x.png', 'top': 'stripetop@3x.png', 'tokenId': 17}, {'animal': 'penguin@3x.png', 'backgrounds': 'orange.jpg', 'bottom': 'scoutpants@3x.png', 'hair': 'koreanhat@3x.png', 'hand': 'coke@3x.png', 'shoes': 'pinkshoes@3x.png', 'top': 'stripetop@3x.png', 'tokenId': 18}, {'animal': 'turtle@3x.png', 'backgrounds': 'blue.jpg', 'bottom': 'greenoveralls@3x.png', 'hair': 'glasses@3x.png', 'hand': 'coke@3x.png', 'shoes': 'greenshoes@3x.png', 'top': 'bluetop@3x.png', 'tokenId': 19}, {'animal': 'puppy@3x.png', 'backgrounds': 'purple.jpg', 'bottom': 'denimpants@3x.png', 'hair': 'glasses@3x.png', 'hand': 'letter@3x.png', 'shoes': 'greenshoes@3x.png', 'top': 'startop@3x.png', 'tokenId': 20}, {'animal': 'cat@3x.png', 'backgrounds': 'blue.jpg', 'bottom': 'blackoveralls@3x.png', 'hair': 'koreanhat@3x.png', 'hand': 'coke@3x.png', 'shoes': 'greenshoes@3x.png', 'top': 'anipaltop@3x.png', 'tokenId': 21}, {'animal': 'cat@3x.png', 'backgrounds': 'orange.jpg', 'bottom': 'greenoveralls@3x.png', 'hair': 'ribbon@3x.png', 'hand': 'pencil@3x.png', 'shoes': 'blackshoes@3x.png', 'top': 'bluetop@3x.png', 'tokenId': 22}, {'animal': 'penguin@3x.png', 'backgrounds': 'orange.jpg', 'bottom': 'blackoveralls@3x.png', 'hair': 'glasses@3x.png', 'hand': 'coke@3x.png', 'shoes': 'greenshoes@3x.png', 'top': 'bluetop@3x.png', 'tokenId': 23}, {'animal': 'rabbit@3x.png', 'backgrounds': 'orange.jpg', 'bottom': 'denimpants@3x.png', 'hair': 'koreanhat@3x.png', 'hand': 'coke@3x.png', 'shoes': 'blackshoes@3x.png', 'top': 'bluetop@3x.png', 'tokenId': 24}, {'animal': 'puppy@3x.png', 'backgrounds': 'blue.jpg', 'bottom': 'denimpants@3x.png', 'hair': 'koreanhat@3x.png', 'hand': 'coke@3x.png', 'shoes': 'blackshoes@3x.png', 'top': 'anipaltop@3x.png', 'tokenId': 25}, {'animal': 'penguin@3x.png', 'backgrounds': 'blue.jpg', 'bottom': 'denimpants@3x.png', 'hair': 'glasses@3x.png', 'hand': 'letter@3x.png', 'shoes': 'greenshoes@3x.png', 'top': 'koreangown_1@3x.png', 'tokenId': 26}, {'animal': 'cat@3x.png', 'backgrounds': 'blue.jpg', 'bottom': 'denimpants@3x.png', 'hair': 'ribbon@3x.png', 'hand': 'coke@3x.png', 'shoes': 'blackshoes@3x.png', 'top': 'bluetop@3x.png', 'tokenId': 27}, {'animal': 'turtle@3x.png', 'backgrounds': 'yellow.jpg', 'bottom': 'koreanpants@3x.png', 'hair': 'koreanhat@3x.png', 'hand': 'letter@3x.png', 'shoes': 'greenshoes@3x.png', 'top': 'bluetop@3x.png', 'tokenId': 28}, {'animal': 'cat@3x.png', 'backgrounds': 'blue.jpg', 'bottom': 'scoutpants@3x.png', 'hair': 'ribbon@3x.png', 'hand': 'letter@3x.png', 'shoes': 'blackshoes@3x.png', 'top': 'bluetop@3x.png', 'tokenId': 29}]\n"
     ]
    }
   ],
   "source": [
    "print(all_images)"
   ]
  },
  {
   "cell_type": "code",
   "execution_count": null,
   "metadata": {},
   "outputs": [],
   "source": [
    "# Get Trait Counts\n",
    "\n",
    "background_count = {}\n",
    "for item in background:\n",
    "    background_count[item] = 0\n",
    "    \n",
    "circle_count = {}\n",
    "for item in circle:\n",
    "    circle_count[item] = 0\n",
    "\n",
    "square_count = {}\n",
    "for item in square:\n",
    "    square_count[item] = 0\n",
    "\n",
    "for image in all_images:\n",
    "    background_count[image[\"Background\"]] += 1\n",
    "    circle_count[image[\"Circle\"]] += 1\n",
    "    square_count[image[\"Square\"]] += 1\n",
    "    \n",
    "print(background_count)\n",
    "print(circle_count)\n",
    "print(square_count)"
   ]
  },
  {
   "cell_type": "code",
   "execution_count": null,
   "metadata": {},
   "outputs": [],
   "source": [
    "#### Generate Metadata for all Traits \n",
    "METADATA_FILE_NAME = './metadata/all-traits.json'; \n",
    "with open(METADATA_FILE_NAME, 'w') as outfile:\n",
    "    json.dump(all_images, outfile, indent=4)"
   ]
  },
  {
   "cell_type": "code",
   "execution_count": null,
   "metadata": {},
   "outputs": [],
   "source": [
    "  \n",
    "    \n",
    "#### Generate Images    \n",
    "for item in all_images:\n",
    "\n",
    "    im1 = Image.open(f'./trait-layers/backgrounds/{background_files[item[\"Background\"]]}.jpg').convert('RGBA')\n",
    "    im2 = Image.open(f'./trait-layers/circles/{circle_files[item[\"Circle\"]]}.png').convert('RGBA')\n",
    "    im3 = Image.open(f'./trait-layers/squares/{square_files[item[\"Square\"]]}.png').convert('RGBA')\n",
    "\n",
    "    #Create each composite\n",
    "    com1 = Image.alpha_composite(im1, im2)\n",
    "    com2 = Image.alpha_composite(com1, im3)\n",
    "\n",
    "    #Convert to RGB\n",
    "    rgb_im = com2.convert('RGB')\n",
    "    file_name = str(item[\"tokenId\"]) + \".png\"\n",
    "    rgb_im.save(\"./images/\" + file_name)\n",
    "    \n",
    "    \n",
    "    "
   ]
  },
  {
   "cell_type": "code",
   "execution_count": null,
   "metadata": {},
   "outputs": [],
   "source": [
    "#### Generate Metadata for each Image    \n",
    "\n",
    "f = open('./metadata/all-traits.json',) \n",
    "data = json.load(f)\n",
    "\n",
    "\n",
    "IMAGES_BASE_URI = \"ADD_IMAGES_BASE_URI_HERE\"\n",
    "PROJECT_NAME = \"ADD_PROJECT_NAME_HERE\"\n",
    "\n",
    "def getAttribute(key, value):\n",
    "    return {\n",
    "        \"trait_type\": key,\n",
    "        \"value\": value\n",
    "    }\n",
    "for i in data:\n",
    "    token_id = i['tokenId']\n",
    "    token = {\n",
    "        \"image\": IMAGES_BASE_URI + str(token_id) + '.png',\n",
    "        \"tokenId\": token_id,\n",
    "        \"name\": PROJECT_NAME + ' ' + str(token_id),\n",
    "        \"attributes\": []\n",
    "    }\n",
    "    token[\"attributes\"].append(getAttribute(\"Background\", i[\"Background\"]))\n",
    "    token[\"attributes\"].append(getAttribute(\"Circle\", i[\"Circle\"]))\n",
    "    token[\"attributes\"].append(getAttribute(\"Square\", i[\"Square\"]))\n",
    "\n",
    "    with open('./metadata/' + str(token_id), 'w') as outfile:\n",
    "        json.dump(token, outfile, indent=4)\n",
    "f.close()"
   ]
  },
  {
   "cell_type": "code",
   "execution_count": null,
   "metadata": {},
   "outputs": [],
   "source": []
  }
 ],
 "metadata": {
  "interpreter": {
   "hash": "3d65f8beab89bca824669a8319117cabe601d9aca9a71aad8efeb42336828120"
  },
  "kernelspec": {
   "display_name": "Python 3.9.6 64-bit",
   "name": "python3"
  },
  "language_info": {
   "codemirror_mode": {
    "name": "ipython",
    "version": 3
   },
   "file_extension": ".py",
   "mimetype": "text/x-python",
   "name": "python",
   "nbconvert_exporter": "python",
   "pygments_lexer": "ipython3",
   "version": "3.10.0"
  }
 },
 "nbformat": 4,
 "nbformat_minor": 4
}
